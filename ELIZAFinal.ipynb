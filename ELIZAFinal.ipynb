{
  "nbformat": 4,
  "nbformat_minor": 0,
  "metadata": {
    "colab": {
      "provenance": [],
      "authorship_tag": "ABX9TyO3U461TGTtmBYLdLtco9tm",
      "include_colab_link": true
    },
    "kernelspec": {
      "name": "python3",
      "display_name": "Python 3"
    },
    "language_info": {
      "name": "python"
    }
  },
  "cells": [
    {
      "cell_type": "markdown",
      "metadata": {
        "id": "view-in-github",
        "colab_type": "text"
      },
      "source": [
        "<a href=\"https://colab.research.google.com/github/RaziehZare/Regex-Jurafsky-Martin/blob/main/ELIZAFinal.ipynb\" target=\"_parent\"><img src=\"https://colab.research.google.com/assets/colab-badge.svg\" alt=\"Open In Colab\"/></a>"
      ]
    },
    {
      "cell_type": "markdown",
      "source": [
        "A very simple implementation of Eliza just for practicing substitution and regex."
      ],
      "metadata": {
        "id": "UF23Gl-g_GxY"
      }
    },
    {
      "cell_type": "code",
      "source": [
        "#We define a dictionary of patterns and EliZa's responses, while each pattern is a regex that matches a certain type of input\n",
        "import re\n",
        "import random\n",
        "patterns = {\n",
        "    #r'.*(mother|father|mom|dad|sister|brother).*' : ['TELL ME MORE ABOUT YOUR FAMILY'],\n",
        "    r'.*(hi|hello).*': [\"HI! NICE TO MEET YOU AGAIN!\"],\n",
        "    r'(.*)help(.*)': [\"OH! HOW CAN I HELP YOU?\", \"DON'T WORRY! I'M HERE FOR YOU! WHAT SHOULD I DO?\"],\n",
        "    r'(.*)problem(.*)': [\"I'M SORRY TO HEAR THAT. WHAT'S YOUR PROBLEM?\"],\n",
        "    r'(.*)question(.*)': [\"SURE. WHAT DO YOU WANT TO KNOW?\", \"ASK ME! I'M HERE FOR YOU!\"],\n",
        "    r'(.*)all(.*)': [\"IN WHAT WAY?\"],\n",
        "     r'(.*)always(.*)': [\"CAN YOU GIVE ME AN EXAMPLE?\"],\n",
        "    r\"(.*)(thank you|thanks)(.*)\": [\"YOU ARE WELCOME!\", \"NO PROBLEM!\", \"THAT'S OK!\"],\n",
        "    r'(.*)bye(.*)': ['GOOD BYE', 'HAVE A GREAT DAY!', 'HAPPY TO TALK TO YOU!'],\n",
        "    r'(.*)money(.*)':[\"OH! YOU SHOULD LEARN HOW TO SAVE MONEY!\"]\n",
        "\n",
        "}\n",
        "def substitution(input):\n",
        "  if (re.match(r'.*(mother|father|mom|dad|sister|brother).*', input) != None):\n",
        "    return re.sub(r'.*(mother|father|mom|dad|sister|brother).*', r'OH, HOW IS YOUR RELATIONSHIP WITH YOUR \\1 ?', input)\n",
        "  elif (re.match(r'.*(depressed|sad|angry|mad).*', input) != None):\n",
        "    return re.sub(r'.*(depressed|sad|angry|mad).*', r'I AM SORRY TO HEAR YOU ARE \\1 ', input)\n",
        "  elif (re.match(r'.*(happy|satisfied|pleased).*', input)!= None):\n",
        "    return re.sub(r'.*(happy|satisfied|pleased).*', r'I AM VERY HAPPY TO HEAR YOU ARE \\1 ', input)\n",
        "  return None\n",
        "\n",
        "def response(input):\n",
        "    for pattern, responses in patterns.items():\n",
        "        if re.match(pattern, input):\n",
        "          #random pick up from choices\n",
        "            return random.choice(responses)\n",
        "    if substitution(input) != None:\n",
        "      return substitution(input)\n",
        "    return \"I'M SORRY! I DO'NT UNDERSTAND. CAN YOU EXPLAIN MORE?\"\n",
        "\n",
        "while True:\n",
        "    message = input(\"User: \")\n",
        "    #we lowercase message\n",
        "    if message.lower() in [\"exit\", \"quit\", \"finish\" , \"done\"]:\n",
        "        print(\"THANK'S FOR TRUSTING ELIZA! HAVE A NICE DAY!\")\n",
        "        break\n",
        "    m = response(message.lower())\n",
        "    print(f'ELIZA: {m}')"
      ],
      "metadata": {
        "colab": {
          "base_uri": "https://localhost:8080/"
        },
        "id": "HxuO4y3U7lpb",
        "outputId": "f77b51f3-edf6-4b47-dd89-deae5a323c1a"
      },
      "execution_count": 6,
      "outputs": [
        {
          "output_type": "stream",
          "name": "stdout",
          "text": [
            "User: Hi Babe\n",
            "ELIZA: HI! NICE TO MEET YOU AGAIN!\n",
            "User: I have a problem\n",
            "ELIZA: I'M SORRY TO HEAR THAT. WHAT'S YOUR PROBLEM?\n",
            "User: I feel depressed\n",
            "ELIZA: I AM SORRY TO HEAR YOU ARE depressed \n",
            "User: I need help\n",
            "ELIZA: OH! HOW CAN I HELP YOU?\n",
            "User: Can I ask you a question?\n",
            "ELIZA: ASK ME! I'M HERE FOR YOU!\n",
            "User: How can I have more money!\n",
            "ELIZA: OH! YOU SHOULD LEARN HOW TO SAVE MONEY!\n",
            "User: Oh, that's too hard!\n",
            "ELIZA: I'M SORRY! I DO'NT UNDERSTAND. CAN YOU EXPLAIN MORE?\n",
            "User: That's OK dear. Thanks.\n",
            "ELIZA: YOU ARE WELCOME!\n",
            "User: bye\n",
            "ELIZA: HAVE A GREAT DAY!\n",
            "User: finish\n",
            "THANK'S FOR TRUSTING ELIZA! HAVE A NICE DAY!\n"
          ]
        }
      ]
    }
  ]
}