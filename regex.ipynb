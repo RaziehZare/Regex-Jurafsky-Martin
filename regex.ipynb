{
  "nbformat": 4,
  "nbformat_minor": 0,
  "metadata": {
    "colab": {
      "provenance": [],
      "authorship_tag": "ABX9TyPBQrG0iZSVKFNC4O+DKeFE",
      "include_colab_link": true
    },
    "kernelspec": {
      "name": "python3",
      "display_name": "Python 3"
    },
    "language_info": {
      "name": "python"
    }
  },
  "cells": [
    {
      "cell_type": "markdown",
      "metadata": {
        "id": "view-in-github",
        "colab_type": "text"
      },
      "source": [
        "<a href=\"https://colab.research.google.com/github/RaziehZare/Regex-Jurafsky-Martin/blob/main/regex.ipynb\" target=\"_parent\"><img src=\"https://colab.research.google.com/assets/colab-badge.svg\" alt=\"Open In Colab\"/></a>"
      ]
    },
    {
      "cell_type": "code",
      "source": [
        "#substitution\n",
        "import re\n",
        "re.sub(r'([0-9]+)', r'<\\1>', '50 cats in 35 boxes in 2 houses')"
      ],
      "metadata": {
        "id": "KUhxOo1oddte",
        "colab": {
          "base_uri": "https://localhost:8080/",
          "height": 35
        },
        "outputId": "ac29c506-21e9-41b6-b549-0ec7f2154894"
      },
      "execution_count": 6,
      "outputs": [
        {
          "output_type": "execute_result",
          "data": {
            "text/plain": [
              "'<50> cats in <35> boxes in <2> houses'"
            ],
            "application/vnd.google.colaboratory.intrinsic+json": {
              "type": "string"
            }
          },
          "metadata": {},
          "execution_count": 6
        }
      ]
    },
    {
      "cell_type": "code",
      "source": [
        "#capturing group\n",
        "import re\n",
        "re.match(r'the (.*)er they were, the \\1er they will be', 'the bigger they were, the bigger they will be')"
      ],
      "metadata": {
        "colab": {
          "base_uri": "https://localhost:8080/"
        },
        "id": "71T_umd1qmHM",
        "outputId": "b8a6faab-d2e6-4597-eb13-673b9fd120bf"
      },
      "execution_count": null,
      "outputs": [
        {
          "output_type": "execute_result",
          "data": {
            "text/plain": [
              "<re.Match object; span=(0, 45), match='the bigger they were, the bigger they will be'>"
            ]
          },
          "metadata": {},
          "execution_count": 33
        }
      ]
    },
    {
      "cell_type": "code",
      "source": [
        "#capturing and non-capturing group\n",
        "import re\n",
        "print(re.match(r'the (.*)er they were, the \\1er they will be', 'the bigger they were, the bigger they will be'))\n",
        "print(re.match(r'the (.*)er they were, the \\1er they will be', 'the bigger they were, the faster they will be'))\n",
        "print(re.match(r'the (.*)er they (.*), the \\1er we \\2', 'the faster they ran, the faster we ran'))\n",
        "print(re.match(r'the (.*)er they (.*), the \\1er we \\2', 'the faster, the faster we ate'))\n",
        "print(re.match(r'the (.*)er they (.*), the \\1er we \\2', 'the faster they ran, the slower we ran'))\n",
        "print(re.match(r'(some|a few) like \\1', 'some like some'))\n",
        "print(re.match(r'(some|a few) like \\1', 'a few like a few'))\n",
        "print(re.match(r'(some|a few) (cats|people) like \\1 \\2', 'some cats like some cats'))\n",
        "print(re.match(r'(some|a few) (cats|people) like \\1 \\2', 'some cats like some people'))\n",
        "print(re.match(r'(some|a few) (cats|people) like \\1 \\2', 'a few cats like a few cats'))\n",
        "print(re.match(r'(some|a few) (cats|people) like \\1 \\2', 'some cats like a few people'))\n",
        "print(\"none-capturing group\")\n",
        "print(re.match(r'(?:some|a few) (cats|people) like some \\1', 'some cats like some cats'))\n",
        "print(re.match(r'(?:some|a few) (cats|people) like some \\1', 'some cats like some a few'))\n",
        "print(re.match(r'(?:some|a few) (cats|people) like some \\1', 'some cats like some people'))\n",
        "print(re.match(r'(?:some|a few) (cats|people) like some \\1', 'a few people like some people'))\n",
        "print(re.match(r'(?:some|a few) (cats|people) like some \\1', 'a few people like some cats'))\n",
        "print(re.match(r'(?:some|a few) (cats|people) like some \\1', 'some people like some some'))\n"
      ],
      "metadata": {
        "colab": {
          "base_uri": "https://localhost:8080/"
        },
        "id": "IhgIFHFKrZ4Y",
        "outputId": "29e8e2e2-c7ef-4da4-dafa-c8a82221c419"
      },
      "execution_count": null,
      "outputs": [
        {
          "output_type": "stream",
          "name": "stdout",
          "text": [
            "<re.Match object; span=(0, 45), match='the bigger they were, the bigger they will be'>\n",
            "None\n",
            "<re.Match object; span=(0, 38), match='the faster they ran, the faster we ran'>\n",
            "None\n",
            "None\n",
            "<re.Match object; span=(0, 14), match='some like some'>\n",
            "<re.Match object; span=(0, 16), match='a few like a few'>\n",
            "<re.Match object; span=(0, 24), match='some cats like some cats'>\n",
            "None\n",
            "<re.Match object; span=(0, 26), match='a few cats like a few cats'>\n",
            "None\n",
            "none-capturing group\n",
            "<re.Match object; span=(0, 24), match='some cats like some cats'>\n",
            "None\n",
            "None\n",
            "<re.Match object; span=(0, 29), match='a few people like some people'>\n",
            "None\n",
            "None\n"
          ]
        }
      ]
    },
    {
      "cell_type": "code",
      "source": [
        "#substitution and capturing group\n",
        "import re\n",
        "message = input()\n",
        "message =re.sub(r'.*(mother|father|mom|dad|sister|brother).*', r'Hows your relationship with your \\1', message)\n",
        "print(message)"
      ],
      "metadata": {
        "colab": {
          "base_uri": "https://localhost:8080/"
        },
        "id": "Iacv2ya82hT3",
        "outputId": "1485c6b7-782b-490a-fa82-133516c41579"
      },
      "execution_count": null,
      "outputs": [
        {
          "output_type": "stream",
          "name": "stdout",
          "text": [
            "my mother is mad\n",
            "Hows your relationship with your mother\n"
          ]
        }
      ]
    },
    {
      "cell_type": "code",
      "source": [
        "#Lookahead Assertions\n",
        "import re\n",
        "text = \"Hello every body! nice to meet you. I'm here...\"\n",
        "\n",
        "print(re.match(r'^(?=Hello)(.*)' , text))\n",
        "print(re.match(r'^(?!cats)(.*)', text))"
      ],
      "metadata": {
        "colab": {
          "base_uri": "https://localhost:8080/"
        },
        "id": "iILBQR9CCw4Y",
        "outputId": "ffbecce9-38dc-4336-ddbe-145390be0ad6"
      },
      "execution_count": 5,
      "outputs": [
        {
          "output_type": "stream",
          "name": "stdout",
          "text": [
            "<re.Match object; span=(0, 47), match=\"Hello every body! nice to meet you. I'm here...\">\n",
            "<re.Match object; span=(0, 47), match=\"Hello every body! nice to meet you. I'm here...\">\n"
          ]
        }
      ]
    },
    {
      "cell_type": "code",
      "source": [
        "pip install nltk"
      ],
      "metadata": {
        "colab": {
          "base_uri": "https://localhost:8080/"
        },
        "id": "3F8WIpJGUvSC",
        "outputId": "f273f410-1008-46c0-939c-c56fffc6b7e8"
      },
      "execution_count": null,
      "outputs": [
        {
          "output_type": "stream",
          "name": "stdout",
          "text": [
            "Looking in indexes: https://pypi.org/simple, https://us-python.pkg.dev/colab-wheels/public/simple/\n",
            "Requirement already satisfied: nltk in /usr/local/lib/python3.10/dist-packages (3.8.1)\n",
            "Requirement already satisfied: regex>=2021.8.3 in /usr/local/lib/python3.10/dist-packages (from nltk) (2022.10.31)\n",
            "Requirement already satisfied: tqdm in /usr/local/lib/python3.10/dist-packages (from nltk) (4.65.0)\n",
            "Requirement already satisfied: joblib in /usr/local/lib/python3.10/dist-packages (from nltk) (1.2.0)\n",
            "Requirement already satisfied: click in /usr/local/lib/python3.10/dist-packages (from nltk) (8.1.3)\n"
          ]
        }
      ]
    }
  ]
}